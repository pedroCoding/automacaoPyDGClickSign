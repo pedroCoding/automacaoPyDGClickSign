{
 "cells": [
  {
   "cell_type": "code",
   "execution_count": 33,
   "id": "2e3e537e-2ff5-436b-90a6-cea0525d933b",
   "metadata": {},
   "outputs": [],
   "source": [
    "from selenium import webdriver\n",
    "from webdriver_manager.chrome import ChromeDriverManager\n",
    "from selenium.webdriver.chrome.service import Service\n",
    "\n",
    "\n",
    "servico = Service(ChromeDriverManager().install())\n",
    "navegador = webdriver.Chrome(service=servico)\n",
    "\n"
   ]
  },
  {
   "cell_type": "code",
   "execution_count": null,
   "id": "9796f65b-8e66-4419-960a-be579a2372be",
   "metadata": {},
   "outputs": [],
   "source": [
    "#SEGUNDA PARTE ( ---SCRIPT--- )"
   ]
  },
  {
   "cell_type": "code",
   "execution_count": 35,
   "id": "2107dfd4-89f3-47f0-b681-3ed3328df471",
   "metadata": {},
   "outputs": [
    {
     "ename": "NoSuchWindowException",
     "evalue": "Message: no such window: target window already closed\nfrom unknown error: web view not found\n  (Session info: chrome=125.0.6422.113)\nStacktrace:\n\tGetHandleVerifier [0x00E6B8E3+45827]\n\t(No symbol) [0x00DFDCC4]\n\t(No symbol) [0x00CF150F]\n\t(No symbol) [0x00CCE133]\n\t(No symbol) [0x00D5949F]\n\t(No symbol) [0x00D6B8E6]\n\t(No symbol) [0x00D52B96]\n\t(No symbol) [0x00D26998]\n\t(No symbol) [0x00D2751D]\n\tGetHandleVerifier [0x01124513+2899763]\n\tGetHandleVerifier [0x0117793D+3240797]\n\tGetHandleVerifier [0x00EF13B4+593364]\n\tGetHandleVerifier [0x00EF82DC+621820]\n\t(No symbol) [0x00E070A4]\n\t(No symbol) [0x00E037A8]\n\t(No symbol) [0x00E03947]\n\t(No symbol) [0x00DF59FE]\n\tBaseThreadInitThunk [0x7758FCC9+25]\n\tRtlGetAppContainerNamedObjectPath [0x777E7C6E+286]\n\tRtlGetAppContainerNamedObjectPath [0x777E7C3E+238]\n",
     "output_type": "error",
     "traceback": [
      "\u001b[1;31m---------------------------------------------------------------------------\u001b[0m",
      "\u001b[1;31mNoSuchWindowException\u001b[0m                     Traceback (most recent call last)",
      "Cell \u001b[1;32mIn[35], line 2\u001b[0m\n\u001b[0;32m      1\u001b[0m \u001b[38;5;66;03m#clica no botão NOVO DESTINATARIO\u001b[39;00m\n\u001b[1;32m----> 2\u001b[0m \u001b[43mnavegador\u001b[49m\u001b[38;5;241;43m.\u001b[39;49m\u001b[43mfind_element\u001b[49m\u001b[43m(\u001b[49m\u001b[38;5;124;43m'\u001b[39;49m\u001b[38;5;124;43mxpath\u001b[39;49m\u001b[38;5;124;43m'\u001b[39;49m\u001b[43m,\u001b[49m\u001b[38;5;124;43m'\u001b[39;49m\u001b[38;5;124;43m//*[@id=\u001b[39;49m\u001b[38;5;124;43m\"\u001b[39;49m\u001b[38;5;124;43madd_signer\u001b[39;49m\u001b[38;5;124;43m\"\u001b[39;49m\u001b[38;5;124;43m]\u001b[39;49m\u001b[38;5;124;43m'\u001b[39;49m\u001b[43m)\u001b[49m\n",
      "File \u001b[1;32m~\\PycharmProjects\\projetoFinal\\.venv\\Lib\\site-packages\\selenium\\webdriver\\remote\\webdriver.py:741\u001b[0m, in \u001b[0;36mWebDriver.find_element\u001b[1;34m(self, by, value)\u001b[0m\n\u001b[0;32m    738\u001b[0m     by \u001b[38;5;241m=\u001b[39m By\u001b[38;5;241m.\u001b[39mCSS_SELECTOR\n\u001b[0;32m    739\u001b[0m     value \u001b[38;5;241m=\u001b[39m \u001b[38;5;124mf\u001b[39m\u001b[38;5;124m'\u001b[39m\u001b[38;5;124m[name=\u001b[39m\u001b[38;5;124m\"\u001b[39m\u001b[38;5;132;01m{\u001b[39;00mvalue\u001b[38;5;132;01m}\u001b[39;00m\u001b[38;5;124m\"\u001b[39m\u001b[38;5;124m]\u001b[39m\u001b[38;5;124m'\u001b[39m\n\u001b[1;32m--> 741\u001b[0m \u001b[38;5;28;01mreturn\u001b[39;00m \u001b[38;5;28;43mself\u001b[39;49m\u001b[38;5;241;43m.\u001b[39;49m\u001b[43mexecute\u001b[49m\u001b[43m(\u001b[49m\u001b[43mCommand\u001b[49m\u001b[38;5;241;43m.\u001b[39;49m\u001b[43mFIND_ELEMENT\u001b[49m\u001b[43m,\u001b[49m\u001b[43m \u001b[49m\u001b[43m{\u001b[49m\u001b[38;5;124;43m\"\u001b[39;49m\u001b[38;5;124;43musing\u001b[39;49m\u001b[38;5;124;43m\"\u001b[39;49m\u001b[43m:\u001b[49m\u001b[43m \u001b[49m\u001b[43mby\u001b[49m\u001b[43m,\u001b[49m\u001b[43m \u001b[49m\u001b[38;5;124;43m\"\u001b[39;49m\u001b[38;5;124;43mvalue\u001b[39;49m\u001b[38;5;124;43m\"\u001b[39;49m\u001b[43m:\u001b[49m\u001b[43m \u001b[49m\u001b[43mvalue\u001b[49m\u001b[43m}\u001b[49m\u001b[43m)\u001b[49m[\u001b[38;5;124m\"\u001b[39m\u001b[38;5;124mvalue\u001b[39m\u001b[38;5;124m\"\u001b[39m]\n",
      "File \u001b[1;32m~\\PycharmProjects\\projetoFinal\\.venv\\Lib\\site-packages\\selenium\\webdriver\\remote\\webdriver.py:347\u001b[0m, in \u001b[0;36mWebDriver.execute\u001b[1;34m(self, driver_command, params)\u001b[0m\n\u001b[0;32m    345\u001b[0m response \u001b[38;5;241m=\u001b[39m \u001b[38;5;28mself\u001b[39m\u001b[38;5;241m.\u001b[39mcommand_executor\u001b[38;5;241m.\u001b[39mexecute(driver_command, params)\n\u001b[0;32m    346\u001b[0m \u001b[38;5;28;01mif\u001b[39;00m response:\n\u001b[1;32m--> 347\u001b[0m     \u001b[38;5;28;43mself\u001b[39;49m\u001b[38;5;241;43m.\u001b[39;49m\u001b[43merror_handler\u001b[49m\u001b[38;5;241;43m.\u001b[39;49m\u001b[43mcheck_response\u001b[49m\u001b[43m(\u001b[49m\u001b[43mresponse\u001b[49m\u001b[43m)\u001b[49m\n\u001b[0;32m    348\u001b[0m     response[\u001b[38;5;124m\"\u001b[39m\u001b[38;5;124mvalue\u001b[39m\u001b[38;5;124m\"\u001b[39m] \u001b[38;5;241m=\u001b[39m \u001b[38;5;28mself\u001b[39m\u001b[38;5;241m.\u001b[39m_unwrap_value(response\u001b[38;5;241m.\u001b[39mget(\u001b[38;5;124m\"\u001b[39m\u001b[38;5;124mvalue\u001b[39m\u001b[38;5;124m\"\u001b[39m, \u001b[38;5;28;01mNone\u001b[39;00m))\n\u001b[0;32m    349\u001b[0m     \u001b[38;5;28;01mreturn\u001b[39;00m response\n",
      "File \u001b[1;32m~\\PycharmProjects\\projetoFinal\\.venv\\Lib\\site-packages\\selenium\\webdriver\\remote\\errorhandler.py:229\u001b[0m, in \u001b[0;36mErrorHandler.check_response\u001b[1;34m(self, response)\u001b[0m\n\u001b[0;32m    227\u001b[0m         alert_text \u001b[38;5;241m=\u001b[39m value[\u001b[38;5;124m\"\u001b[39m\u001b[38;5;124malert\u001b[39m\u001b[38;5;124m\"\u001b[39m]\u001b[38;5;241m.\u001b[39mget(\u001b[38;5;124m\"\u001b[39m\u001b[38;5;124mtext\u001b[39m\u001b[38;5;124m\"\u001b[39m)\n\u001b[0;32m    228\u001b[0m     \u001b[38;5;28;01mraise\u001b[39;00m exception_class(message, screen, stacktrace, alert_text)  \u001b[38;5;66;03m# type: ignore[call-arg]  # mypy is not smart enough here\u001b[39;00m\n\u001b[1;32m--> 229\u001b[0m \u001b[38;5;28;01mraise\u001b[39;00m exception_class(message, screen, stacktrace)\n",
      "\u001b[1;31mNoSuchWindowException\u001b[0m: Message: no such window: target window already closed\nfrom unknown error: web view not found\n  (Session info: chrome=125.0.6422.113)\nStacktrace:\n\tGetHandleVerifier [0x00E6B8E3+45827]\n\t(No symbol) [0x00DFDCC4]\n\t(No symbol) [0x00CF150F]\n\t(No symbol) [0x00CCE133]\n\t(No symbol) [0x00D5949F]\n\t(No symbol) [0x00D6B8E6]\n\t(No symbol) [0x00D52B96]\n\t(No symbol) [0x00D26998]\n\t(No symbol) [0x00D2751D]\n\tGetHandleVerifier [0x01124513+2899763]\n\tGetHandleVerifier [0x0117793D+3240797]\n\tGetHandleVerifier [0x00EF13B4+593364]\n\tGetHandleVerifier [0x00EF82DC+621820]\n\t(No symbol) [0x00E070A4]\n\t(No symbol) [0x00E037A8]\n\t(No symbol) [0x00E03947]\n\t(No symbol) [0x00DF59FE]\n\tBaseThreadInitThunk [0x7758FCC9+25]\n\tRtlGetAppContainerNamedObjectPath [0x777E7C6E+286]\n\tRtlGetAppContainerNamedObjectPath [0x777E7C3E+238]\n"
     ]
    }
   ],
   "source": [
    "#clica no botão NOVO DESTINATARIO\n",
    "navegador.find_element('xpath','//*[@id=\"add_signer\"]')"
   ]
  },
  {
   "cell_type": "code",
   "execution_count": null,
   "id": "b1990c18-3ca6-439d-b983-de5f085ee607",
   "metadata": {},
   "outputs": [],
   "source": [
    "#clica no botão SELEÇÃO TIPO\n",
    "navegador.find_element('xpath','/html/body/div[2]/main/div/div[2]/div/section[2]/div/div/div/section/div/form/section[1]/section[1]/div/fieldset/div/div/div/div[2]').click()"
   ]
  },
  {
   "cell_type": "code",
   "execution_count": null,
   "id": "8dc568a0-82d4-4010-b51a-bd8212eb180e",
   "metadata": {},
   "outputs": [],
   "source": [
    "#clica no botão SELEÇÃO EMAIL\n",
    "navegador.find_element('xpath','//*[@id=\"select-2e8a889f\"]/li[1]/div/div').click()"
   ]
  },
  {
   "cell_type": "code",
   "execution_count": null,
   "id": "b9bdbfe6-ae20-4b03-9da9-41b288432116",
   "metadata": {},
   "outputs": [],
   "source": [
    "navegador.find_element('xpath','/html/body/div[2]/main/div/div[2]/div/section[2]/div/div/div/section/div/form/section[1]/section[2]/div[1]/fieldset/div').click()"
   ]
  },
  {
   "cell_type": "code",
   "execution_count": null,
   "id": "94116e28-48b9-4484-84cb-c8d026a1a1ff",
   "metadata": {},
   "outputs": [],
   "source": [
    "navegador.implicitly_wait(5)"
   ]
  },
  {
   "cell_type": "code",
   "execution_count": null,
   "id": "9ba58da8-757d-4af9-86a2-46dab45032c5",
   "metadata": {},
   "outputs": [],
   "source": [
    "#clica no botão AUTENTICAÇÃO\n",
    "navegador.find_element('xpath','/html/body/div[2]/main/div/div[2]/div/section[2]/div/div/div/section/div/form/section[1]/section[2]/div[1]/fieldset/div/div/div/div[2]').click()"
   ]
  },
  {
   "cell_type": "code",
   "execution_count": null,
   "id": "4c8a3864-673e-43f8-9adc-1adf8ecf171f",
   "metadata": {
    "scrolled": true
   },
   "outputs": [],
   "source": [
    "#clica no botão SELEÇÃO TOKEN VIA EMAIL\n",
    "navegador.find_element('xpath','//*[@id=\"select-2d54c39d\"]/li[1]').click()"
   ]
  },
  {
   "cell_type": "code",
   "execution_count": null,
   "id": "3096cd50-24d0-46f5-85f9-ad5e0fa1f83a",
   "metadata": {},
   "outputs": [],
   "source": [
    "#pega o campo EMAIL - DIGITAÇÃO\n",
    "navegador.find_element('xpath','//*[@id=\"signerEmailFieldFieldContent\"]').send_keys(\"atendimentovidasaude01@gmail.com\")"
   ]
  },
  {
   "cell_type": "code",
   "execution_count": null,
   "id": "c9ed362a-3812-43d4-b43e-eba6bb9bfe2a",
   "metadata": {},
   "outputs": [],
   "source": [
    "#pega o campo NOME COMPLETO - DIGITAÇÃO\n",
    "navegador.find_element('xpath','//*[@data-testid=\"signerNameField\"]').send_keys(\"PEDRO L S BARBOSA\")"
   ]
  },
  {
   "cell_type": "code",
   "execution_count": 36,
   "id": "bb74c5cb-f2ca-40fc-827c-ae34fced7df8",
   "metadata": {},
   "outputs": [
    {
     "ename": "NoSuchWindowException",
     "evalue": "Message: no such window: target window already closed\nfrom unknown error: web view not found\n  (Session info: chrome=125.0.6422.113)\nStacktrace:\n\tGetHandleVerifier [0x00E6B8E3+45827]\n\t(No symbol) [0x00DFDCC4]\n\t(No symbol) [0x00CF150F]\n\t(No symbol) [0x00CCE133]\n\t(No symbol) [0x00D5949F]\n\t(No symbol) [0x00D6B8E6]\n\t(No symbol) [0x00D52B96]\n\t(No symbol) [0x00D26998]\n\t(No symbol) [0x00D2751D]\n\tGetHandleVerifier [0x01124513+2899763]\n\tGetHandleVerifier [0x0117793D+3240797]\n\tGetHandleVerifier [0x00EF13B4+593364]\n\tGetHandleVerifier [0x00EF82DC+621820]\n\t(No symbol) [0x00E070A4]\n\t(No symbol) [0x00E037A8]\n\t(No symbol) [0x00E03947]\n\t(No symbol) [0x00DF59FE]\n\tBaseThreadInitThunk [0x7758FCC9+25]\n\tRtlGetAppContainerNamedObjectPath [0x777E7C6E+286]\n\tRtlGetAppContainerNamedObjectPath [0x777E7C3E+238]\n",
     "output_type": "error",
     "traceback": [
      "\u001b[1;31m---------------------------------------------------------------------------\u001b[0m",
      "\u001b[1;31mNoSuchWindowException\u001b[0m                     Traceback (most recent call last)",
      "Cell \u001b[1;32mIn[36], line 2\u001b[0m\n\u001b[0;32m      1\u001b[0m \u001b[38;5;66;03m#pega o campo CPF - DIGITAÇÃO\u001b[39;00m\n\u001b[1;32m----> 2\u001b[0m \u001b[43mnavegador\u001b[49m\u001b[38;5;241;43m.\u001b[39;49m\u001b[43mfind_element\u001b[49m\u001b[43m(\u001b[49m\u001b[38;5;124;43m'\u001b[39;49m\u001b[38;5;124;43mxpath\u001b[39;49m\u001b[38;5;124;43m'\u001b[39;49m\u001b[43m,\u001b[49m\u001b[38;5;124;43m'\u001b[39;49m\u001b[38;5;124;43m//*[@data-testid=\u001b[39;49m\u001b[38;5;124;43m\"\u001b[39;49m\u001b[38;5;124;43mfield-fab20fd7\u001b[39;49m\u001b[38;5;124;43m\"\u001b[39;49m\u001b[38;5;124;43m]\u001b[39;49m\u001b[38;5;124;43m'\u001b[39;49m\u001b[43m)\u001b[49m\u001b[38;5;241m.\u001b[39msend_keys(\u001b[38;5;124m\"\u001b[39m\u001b[38;5;124m08290044321\u001b[39m\u001b[38;5;124m\"\u001b[39m)\n",
      "File \u001b[1;32m~\\PycharmProjects\\projetoFinal\\.venv\\Lib\\site-packages\\selenium\\webdriver\\remote\\webdriver.py:741\u001b[0m, in \u001b[0;36mWebDriver.find_element\u001b[1;34m(self, by, value)\u001b[0m\n\u001b[0;32m    738\u001b[0m     by \u001b[38;5;241m=\u001b[39m By\u001b[38;5;241m.\u001b[39mCSS_SELECTOR\n\u001b[0;32m    739\u001b[0m     value \u001b[38;5;241m=\u001b[39m \u001b[38;5;124mf\u001b[39m\u001b[38;5;124m'\u001b[39m\u001b[38;5;124m[name=\u001b[39m\u001b[38;5;124m\"\u001b[39m\u001b[38;5;132;01m{\u001b[39;00mvalue\u001b[38;5;132;01m}\u001b[39;00m\u001b[38;5;124m\"\u001b[39m\u001b[38;5;124m]\u001b[39m\u001b[38;5;124m'\u001b[39m\n\u001b[1;32m--> 741\u001b[0m \u001b[38;5;28;01mreturn\u001b[39;00m \u001b[38;5;28;43mself\u001b[39;49m\u001b[38;5;241;43m.\u001b[39;49m\u001b[43mexecute\u001b[49m\u001b[43m(\u001b[49m\u001b[43mCommand\u001b[49m\u001b[38;5;241;43m.\u001b[39;49m\u001b[43mFIND_ELEMENT\u001b[49m\u001b[43m,\u001b[49m\u001b[43m \u001b[49m\u001b[43m{\u001b[49m\u001b[38;5;124;43m\"\u001b[39;49m\u001b[38;5;124;43musing\u001b[39;49m\u001b[38;5;124;43m\"\u001b[39;49m\u001b[43m:\u001b[49m\u001b[43m \u001b[49m\u001b[43mby\u001b[49m\u001b[43m,\u001b[49m\u001b[43m \u001b[49m\u001b[38;5;124;43m\"\u001b[39;49m\u001b[38;5;124;43mvalue\u001b[39;49m\u001b[38;5;124;43m\"\u001b[39;49m\u001b[43m:\u001b[49m\u001b[43m \u001b[49m\u001b[43mvalue\u001b[49m\u001b[43m}\u001b[49m\u001b[43m)\u001b[49m[\u001b[38;5;124m\"\u001b[39m\u001b[38;5;124mvalue\u001b[39m\u001b[38;5;124m\"\u001b[39m]\n",
      "File \u001b[1;32m~\\PycharmProjects\\projetoFinal\\.venv\\Lib\\site-packages\\selenium\\webdriver\\remote\\webdriver.py:347\u001b[0m, in \u001b[0;36mWebDriver.execute\u001b[1;34m(self, driver_command, params)\u001b[0m\n\u001b[0;32m    345\u001b[0m response \u001b[38;5;241m=\u001b[39m \u001b[38;5;28mself\u001b[39m\u001b[38;5;241m.\u001b[39mcommand_executor\u001b[38;5;241m.\u001b[39mexecute(driver_command, params)\n\u001b[0;32m    346\u001b[0m \u001b[38;5;28;01mif\u001b[39;00m response:\n\u001b[1;32m--> 347\u001b[0m     \u001b[38;5;28;43mself\u001b[39;49m\u001b[38;5;241;43m.\u001b[39;49m\u001b[43merror_handler\u001b[49m\u001b[38;5;241;43m.\u001b[39;49m\u001b[43mcheck_response\u001b[49m\u001b[43m(\u001b[49m\u001b[43mresponse\u001b[49m\u001b[43m)\u001b[49m\n\u001b[0;32m    348\u001b[0m     response[\u001b[38;5;124m\"\u001b[39m\u001b[38;5;124mvalue\u001b[39m\u001b[38;5;124m\"\u001b[39m] \u001b[38;5;241m=\u001b[39m \u001b[38;5;28mself\u001b[39m\u001b[38;5;241m.\u001b[39m_unwrap_value(response\u001b[38;5;241m.\u001b[39mget(\u001b[38;5;124m\"\u001b[39m\u001b[38;5;124mvalue\u001b[39m\u001b[38;5;124m\"\u001b[39m, \u001b[38;5;28;01mNone\u001b[39;00m))\n\u001b[0;32m    349\u001b[0m     \u001b[38;5;28;01mreturn\u001b[39;00m response\n",
      "File \u001b[1;32m~\\PycharmProjects\\projetoFinal\\.venv\\Lib\\site-packages\\selenium\\webdriver\\remote\\errorhandler.py:229\u001b[0m, in \u001b[0;36mErrorHandler.check_response\u001b[1;34m(self, response)\u001b[0m\n\u001b[0;32m    227\u001b[0m         alert_text \u001b[38;5;241m=\u001b[39m value[\u001b[38;5;124m\"\u001b[39m\u001b[38;5;124malert\u001b[39m\u001b[38;5;124m\"\u001b[39m]\u001b[38;5;241m.\u001b[39mget(\u001b[38;5;124m\"\u001b[39m\u001b[38;5;124mtext\u001b[39m\u001b[38;5;124m\"\u001b[39m)\n\u001b[0;32m    228\u001b[0m     \u001b[38;5;28;01mraise\u001b[39;00m exception_class(message, screen, stacktrace, alert_text)  \u001b[38;5;66;03m# type: ignore[call-arg]  # mypy is not smart enough here\u001b[39;00m\n\u001b[1;32m--> 229\u001b[0m \u001b[38;5;28;01mraise\u001b[39;00m exception_class(message, screen, stacktrace)\n",
      "\u001b[1;31mNoSuchWindowException\u001b[0m: Message: no such window: target window already closed\nfrom unknown error: web view not found\n  (Session info: chrome=125.0.6422.113)\nStacktrace:\n\tGetHandleVerifier [0x00E6B8E3+45827]\n\t(No symbol) [0x00DFDCC4]\n\t(No symbol) [0x00CF150F]\n\t(No symbol) [0x00CCE133]\n\t(No symbol) [0x00D5949F]\n\t(No symbol) [0x00D6B8E6]\n\t(No symbol) [0x00D52B96]\n\t(No symbol) [0x00D26998]\n\t(No symbol) [0x00D2751D]\n\tGetHandleVerifier [0x01124513+2899763]\n\tGetHandleVerifier [0x0117793D+3240797]\n\tGetHandleVerifier [0x00EF13B4+593364]\n\tGetHandleVerifier [0x00EF82DC+621820]\n\t(No symbol) [0x00E070A4]\n\t(No symbol) [0x00E037A8]\n\t(No symbol) [0x00E03947]\n\t(No symbol) [0x00DF59FE]\n\tBaseThreadInitThunk [0x7758FCC9+25]\n\tRtlGetAppContainerNamedObjectPath [0x777E7C6E+286]\n\tRtlGetAppContainerNamedObjectPath [0x777E7C3E+238]\n"
     ]
    }
   ],
   "source": [
    "#pega o campo CPF - DIGITAÇÃO\n",
    "navegador.find_element('xpath','//*[@data-testid=\"field-fab20fd7\"]').send_keys(\"08290044321\")"
   ]
  },
  {
   "cell_type": "code",
   "execution_count": 37,
   "id": "a8eba9b5-d2b7-4e7e-8c60-f8da0a169b5a",
   "metadata": {},
   "outputs": [
    {
     "ename": "NoSuchWindowException",
     "evalue": "Message: no such window: target window already closed\nfrom unknown error: web view not found\n  (Session info: chrome=125.0.6422.113)\nStacktrace:\n\tGetHandleVerifier [0x00E6B8E3+45827]\n\t(No symbol) [0x00DFDCC4]\n\t(No symbol) [0x00CF150F]\n\t(No symbol) [0x00CCE133]\n\t(No symbol) [0x00D5949F]\n\t(No symbol) [0x00D6B8E6]\n\t(No symbol) [0x00D52B96]\n\t(No symbol) [0x00D26998]\n\t(No symbol) [0x00D2751D]\n\tGetHandleVerifier [0x01124513+2899763]\n\tGetHandleVerifier [0x0117793D+3240797]\n\tGetHandleVerifier [0x00EF13B4+593364]\n\tGetHandleVerifier [0x00EF82DC+621820]\n\t(No symbol) [0x00E070A4]\n\t(No symbol) [0x00E037A8]\n\t(No symbol) [0x00E03947]\n\t(No symbol) [0x00DF59FE]\n\tBaseThreadInitThunk [0x7758FCC9+25]\n\tRtlGetAppContainerNamedObjectPath [0x777E7C6E+286]\n\tRtlGetAppContainerNamedObjectPath [0x777E7C3E+238]\n",
     "output_type": "error",
     "traceback": [
      "\u001b[1;31m---------------------------------------------------------------------------\u001b[0m",
      "\u001b[1;31mNoSuchWindowException\u001b[0m                     Traceback (most recent call last)",
      "Cell \u001b[1;32mIn[37], line 2\u001b[0m\n\u001b[0;32m      1\u001b[0m \u001b[38;5;66;03m#pega o campo CPF - DIGITAÇÃO\u001b[39;00m\n\u001b[1;32m----> 2\u001b[0m \u001b[43mnavegador\u001b[49m\u001b[38;5;241;43m.\u001b[39;49m\u001b[43mfind_element\u001b[49m\u001b[43m(\u001b[49m\u001b[38;5;124;43m'\u001b[39;49m\u001b[38;5;124;43mxpath\u001b[39;49m\u001b[38;5;124;43m'\u001b[39;49m\u001b[43m,\u001b[49m\u001b[38;5;124;43m'\u001b[39;49m\u001b[38;5;124;43m//*[@id=\u001b[39;49m\u001b[38;5;124;43m\"\u001b[39;49m\u001b[38;5;124;43mfield-a9e5487b\u001b[39;49m\u001b[38;5;124;43m\"\u001b[39;49m\u001b[38;5;124;43m]\u001b[39;49m\u001b[38;5;124;43m'\u001b[39;49m\u001b[43m)\u001b[49m\u001b[38;5;241m.\u001b[39msend_keys(\u001b[38;5;124m\"\u001b[39m\u001b[38;5;124m08/02/2003\u001b[39m\u001b[38;5;124m\"\u001b[39m)\n",
      "File \u001b[1;32m~\\PycharmProjects\\projetoFinal\\.venv\\Lib\\site-packages\\selenium\\webdriver\\remote\\webdriver.py:741\u001b[0m, in \u001b[0;36mWebDriver.find_element\u001b[1;34m(self, by, value)\u001b[0m\n\u001b[0;32m    738\u001b[0m     by \u001b[38;5;241m=\u001b[39m By\u001b[38;5;241m.\u001b[39mCSS_SELECTOR\n\u001b[0;32m    739\u001b[0m     value \u001b[38;5;241m=\u001b[39m \u001b[38;5;124mf\u001b[39m\u001b[38;5;124m'\u001b[39m\u001b[38;5;124m[name=\u001b[39m\u001b[38;5;124m\"\u001b[39m\u001b[38;5;132;01m{\u001b[39;00mvalue\u001b[38;5;132;01m}\u001b[39;00m\u001b[38;5;124m\"\u001b[39m\u001b[38;5;124m]\u001b[39m\u001b[38;5;124m'\u001b[39m\n\u001b[1;32m--> 741\u001b[0m \u001b[38;5;28;01mreturn\u001b[39;00m \u001b[38;5;28;43mself\u001b[39;49m\u001b[38;5;241;43m.\u001b[39;49m\u001b[43mexecute\u001b[49m\u001b[43m(\u001b[49m\u001b[43mCommand\u001b[49m\u001b[38;5;241;43m.\u001b[39;49m\u001b[43mFIND_ELEMENT\u001b[49m\u001b[43m,\u001b[49m\u001b[43m \u001b[49m\u001b[43m{\u001b[49m\u001b[38;5;124;43m\"\u001b[39;49m\u001b[38;5;124;43musing\u001b[39;49m\u001b[38;5;124;43m\"\u001b[39;49m\u001b[43m:\u001b[49m\u001b[43m \u001b[49m\u001b[43mby\u001b[49m\u001b[43m,\u001b[49m\u001b[43m \u001b[49m\u001b[38;5;124;43m\"\u001b[39;49m\u001b[38;5;124;43mvalue\u001b[39;49m\u001b[38;5;124;43m\"\u001b[39;49m\u001b[43m:\u001b[49m\u001b[43m \u001b[49m\u001b[43mvalue\u001b[49m\u001b[43m}\u001b[49m\u001b[43m)\u001b[49m[\u001b[38;5;124m\"\u001b[39m\u001b[38;5;124mvalue\u001b[39m\u001b[38;5;124m\"\u001b[39m]\n",
      "File \u001b[1;32m~\\PycharmProjects\\projetoFinal\\.venv\\Lib\\site-packages\\selenium\\webdriver\\remote\\webdriver.py:347\u001b[0m, in \u001b[0;36mWebDriver.execute\u001b[1;34m(self, driver_command, params)\u001b[0m\n\u001b[0;32m    345\u001b[0m response \u001b[38;5;241m=\u001b[39m \u001b[38;5;28mself\u001b[39m\u001b[38;5;241m.\u001b[39mcommand_executor\u001b[38;5;241m.\u001b[39mexecute(driver_command, params)\n\u001b[0;32m    346\u001b[0m \u001b[38;5;28;01mif\u001b[39;00m response:\n\u001b[1;32m--> 347\u001b[0m     \u001b[38;5;28;43mself\u001b[39;49m\u001b[38;5;241;43m.\u001b[39;49m\u001b[43merror_handler\u001b[49m\u001b[38;5;241;43m.\u001b[39;49m\u001b[43mcheck_response\u001b[49m\u001b[43m(\u001b[49m\u001b[43mresponse\u001b[49m\u001b[43m)\u001b[49m\n\u001b[0;32m    348\u001b[0m     response[\u001b[38;5;124m\"\u001b[39m\u001b[38;5;124mvalue\u001b[39m\u001b[38;5;124m\"\u001b[39m] \u001b[38;5;241m=\u001b[39m \u001b[38;5;28mself\u001b[39m\u001b[38;5;241m.\u001b[39m_unwrap_value(response\u001b[38;5;241m.\u001b[39mget(\u001b[38;5;124m\"\u001b[39m\u001b[38;5;124mvalue\u001b[39m\u001b[38;5;124m\"\u001b[39m, \u001b[38;5;28;01mNone\u001b[39;00m))\n\u001b[0;32m    349\u001b[0m     \u001b[38;5;28;01mreturn\u001b[39;00m response\n",
      "File \u001b[1;32m~\\PycharmProjects\\projetoFinal\\.venv\\Lib\\site-packages\\selenium\\webdriver\\remote\\errorhandler.py:229\u001b[0m, in \u001b[0;36mErrorHandler.check_response\u001b[1;34m(self, response)\u001b[0m\n\u001b[0;32m    227\u001b[0m         alert_text \u001b[38;5;241m=\u001b[39m value[\u001b[38;5;124m\"\u001b[39m\u001b[38;5;124malert\u001b[39m\u001b[38;5;124m\"\u001b[39m]\u001b[38;5;241m.\u001b[39mget(\u001b[38;5;124m\"\u001b[39m\u001b[38;5;124mtext\u001b[39m\u001b[38;5;124m\"\u001b[39m)\n\u001b[0;32m    228\u001b[0m     \u001b[38;5;28;01mraise\u001b[39;00m exception_class(message, screen, stacktrace, alert_text)  \u001b[38;5;66;03m# type: ignore[call-arg]  # mypy is not smart enough here\u001b[39;00m\n\u001b[1;32m--> 229\u001b[0m \u001b[38;5;28;01mraise\u001b[39;00m exception_class(message, screen, stacktrace)\n",
      "\u001b[1;31mNoSuchWindowException\u001b[0m: Message: no such window: target window already closed\nfrom unknown error: web view not found\n  (Session info: chrome=125.0.6422.113)\nStacktrace:\n\tGetHandleVerifier [0x00E6B8E3+45827]\n\t(No symbol) [0x00DFDCC4]\n\t(No symbol) [0x00CF150F]\n\t(No symbol) [0x00CCE133]\n\t(No symbol) [0x00D5949F]\n\t(No symbol) [0x00D6B8E6]\n\t(No symbol) [0x00D52B96]\n\t(No symbol) [0x00D26998]\n\t(No symbol) [0x00D2751D]\n\tGetHandleVerifier [0x01124513+2899763]\n\tGetHandleVerifier [0x0117793D+3240797]\n\tGetHandleVerifier [0x00EF13B4+593364]\n\tGetHandleVerifier [0x00EF82DC+621820]\n\t(No symbol) [0x00E070A4]\n\t(No symbol) [0x00E037A8]\n\t(No symbol) [0x00E03947]\n\t(No symbol) [0x00DF59FE]\n\tBaseThreadInitThunk [0x7758FCC9+25]\n\tRtlGetAppContainerNamedObjectPath [0x777E7C6E+286]\n\tRtlGetAppContainerNamedObjectPath [0x777E7C3E+238]\n"
     ]
    }
   ],
   "source": [
    "#pega o campo CPF - DIGITAÇÃO\n",
    "navegador.find_element('xpath','//*[@id=\"field-a9e5487b\"]').send_keys(\"08/02/2003\")"
   ]
  },
  {
   "cell_type": "code",
   "execution_count": null,
   "id": "7ebfdebd-afe8-49e7-a3e5-d0527f5d6cda",
   "metadata": {},
   "outputs": [],
   "source": [
    "#clica no botão AVANÇAR\n",
    "navegador.find_element('xpath','/html/body/div[2]/main/div/div[2]/div/section[2]/div/div/div/footer/div[2]/button[2]').click()"
   ]
  },
  {
   "cell_type": "code",
   "execution_count": null,
   "id": "19ef0152-4170-4c15-902b-34368c330adf",
   "metadata": {
    "scrolled": true
   },
   "outputs": [],
   "source": [
    "#clica no botão de seleção ASSINAR COMO:\n",
    "navegador.find_element('xpath','//*[@id=\"92028168\"]/div/div[1]/fieldset/div/div/div/div[2]').click()"
   ]
  },
  {
   "cell_type": "code",
   "execution_count": 222,
   "id": "8d40b8ec-f76c-4aa6-b4e7-87eb32f86040",
   "metadata": {},
   "outputs": [],
   "source": [
    "navegador.find_element('xpath','//*[@id=\"label448e7e5b\"]/div').click() "
   ]
  },
  {
   "cell_type": "code",
   "execution_count": 223,
   "id": "88870aa1-2f94-429f-ba36-96f184bad979",
   "metadata": {},
   "outputs": [],
   "source": [
    "navegador.find_element('xpath','//*[@data-testid=\"nextStepAddSignerModalButton\"]').click() "
   ]
  },
  {
   "cell_type": "code",
   "execution_count": 224,
   "id": "43ac5944-869a-42b5-85b4-81f1102e005c",
   "metadata": {},
   "outputs": [],
   "source": [
    "navegador.find_element('xpath','//*[@data-testid=\"nextStepBtn\"]').click() "
   ]
  },
  {
   "cell_type": "code",
   "execution_count": 225,
   "id": "3d8ceb8d-b700-483e-88df-99d1c1fe5a0f",
   "metadata": {},
   "outputs": [],
   "source": [
    "navegador.find_element('xpath','//*[@data-testid=\"nextStepBtn\"]').click() "
   ]
  },
  {
   "cell_type": "code",
   "execution_count": 226,
   "id": "23081071-e92c-454c-83b0-15c0af6e0ad8",
   "metadata": {},
   "outputs": [],
   "source": [
    "navegador.find_element('xpath','//*[@id=\"field-e4da0c03\"]').send_keys(\"Olá! Preciso da sua assinatura eletrônica. Para assinar, basta clicar no botão abaixo e seguir o passo-a-passo pela Clicksign. É bem simples!\")"
   ]
  },
  {
   "cell_type": "code",
   "execution_count": 227,
   "id": "57b2a2d8-7283-479c-bbf6-c7fc7e86fa57",
   "metadata": {},
   "outputs": [],
   "source": [
    "navegador.find_element('xpath','//*[@data-testid=\"sendDocumentsButton\"]').click() "
   ]
  },
  {
   "cell_type": "code",
   "execution_count": 228,
   "id": "032feb33-df32-459f-81e4-f29238a9cc07",
   "metadata": {},
   "outputs": [],
   "source": [
    "navegador.close()"
   ]
  },
  {
   "cell_type": "code",
   "execution_count": null,
   "id": "ae580f79-bc3d-4e39-98d3-c4559f99334e",
   "metadata": {},
   "outputs": [],
   "source": []
  }
 ],
 "metadata": {
  "kernelspec": {
   "display_name": "Python 3 (ipykernel)",
   "language": "python",
   "name": "python3"
  },
  "language_info": {
   "codemirror_mode": {
    "name": "ipython",
    "version": 3
   },
   "file_extension": ".py",
   "mimetype": "text/x-python",
   "name": "python",
   "nbconvert_exporter": "python",
   "pygments_lexer": "ipython3",
   "version": "3.12.3"
  }
 },
 "nbformat": 4,
 "nbformat_minor": 5
}
