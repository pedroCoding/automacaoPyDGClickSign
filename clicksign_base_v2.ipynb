{
 "cells": [
  {
   "cell_type": "code",
   "execution_count": 4,
   "id": "2e3e537e-2ff5-436b-90a6-cea0525d933b",
   "metadata": {},
   "outputs": [],
   "source": [
    "from selenium import webdriver\n",
    "from webdriver_manager.chrome import ChromeDriverManager\n",
    "from selenium.webdriver.chrome.service import Service\n",
    "import time as time\n",
    "\n",
    "\n",
    "servico = Service(ChromeDriverManager().install())\n",
    "navegador = webdriver.Chrome(service=servico)\n",
    "\n",
    "\n",
    "#Pagina pra onde sera redirecionado\n",
    "navegador.maximize_window()\n",
    "navegador.get(\"https://app.clicksign.com\")\n",
    "\n"
   ]
  },
  {
   "cell_type": "code",
   "execution_count": 5,
   "id": "8134bf54-4706-4500-82e6-e1143e82fe11",
   "metadata": {},
   "outputs": [
    {
     "ename": "NoSuchWindowException",
     "evalue": "Message: no such window: target window already closed\nfrom unknown error: web view not found\n  (Session info: chrome=125.0.6422.113)\nStacktrace:\n\tGetHandleVerifier [0x0098B8E3+45827]\n\t(No symbol) [0x0091DCC4]\n\t(No symbol) [0x0081150F]\n\t(No symbol) [0x007EE133]\n\t(No symbol) [0x0087949F]\n\t(No symbol) [0x0088B8E6]\n\t(No symbol) [0x00872B96]\n\t(No symbol) [0x00846998]\n\t(No symbol) [0x0084751D]\n\tGetHandleVerifier [0x00C44513+2899763]\n\tGetHandleVerifier [0x00C9793D+3240797]\n\tGetHandleVerifier [0x00A113B4+593364]\n\tGetHandleVerifier [0x00A182DC+621820]\n\t(No symbol) [0x009270A4]\n\t(No symbol) [0x009237A8]\n\t(No symbol) [0x00923947]\n\t(No symbol) [0x009159FE]\n\tBaseThreadInitThunk [0x7758FCC9+25]\n\tRtlGetAppContainerNamedObjectPath [0x777E7C6E+286]\n\tRtlGetAppContainerNamedObjectPath [0x777E7C3E+238]\n",
     "output_type": "error",
     "traceback": [
      "\u001b[1;31m---------------------------------------------------------------------------\u001b[0m",
      "\u001b[1;31mNoSuchWindowException\u001b[0m                     Traceback (most recent call last)",
      "Cell \u001b[1;32mIn[5], line 2\u001b[0m\n\u001b[0;32m      1\u001b[0m \u001b[38;5;66;03m#pega o campo email e digita\u001b[39;00m\n\u001b[1;32m----> 2\u001b[0m \u001b[43mnavegador\u001b[49m\u001b[38;5;241;43m.\u001b[39;49m\u001b[43mfind_element\u001b[49m\u001b[43m(\u001b[49m\u001b[38;5;124;43m'\u001b[39;49m\u001b[38;5;124;43mxpath\u001b[39;49m\u001b[38;5;124;43m'\u001b[39;49m\u001b[43m,\u001b[49m\u001b[38;5;124;43m'\u001b[39;49m\u001b[38;5;124;43m//*[@data-testid=\u001b[39;49m\u001b[38;5;124;43m\"\u001b[39;49m\u001b[38;5;124;43memailField\u001b[39;49m\u001b[38;5;124;43m\"\u001b[39;49m\u001b[38;5;124;43m]\u001b[39;49m\u001b[38;5;124;43m'\u001b[39;49m\u001b[43m \u001b[49m\u001b[43m)\u001b[49m\u001b[38;5;241m.\u001b[39msend_keys(\u001b[38;5;124m\"\u001b[39m\u001b[38;5;124matendimentovidasaude01@gmail.com\u001b[39m\u001b[38;5;124m\"\u001b[39m)\n",
      "File \u001b[1;32mc:\\Users\\PEDRO\\PycharmProjects\\projetoFinal\\.venv\\Lib\\site-packages\\selenium\\webdriver\\remote\\webdriver.py:741\u001b[0m, in \u001b[0;36mWebDriver.find_element\u001b[1;34m(self, by, value)\u001b[0m\n\u001b[0;32m    738\u001b[0m     by \u001b[38;5;241m=\u001b[39m By\u001b[38;5;241m.\u001b[39mCSS_SELECTOR\n\u001b[0;32m    739\u001b[0m     value \u001b[38;5;241m=\u001b[39m \u001b[38;5;124mf\u001b[39m\u001b[38;5;124m'\u001b[39m\u001b[38;5;124m[name=\u001b[39m\u001b[38;5;124m\"\u001b[39m\u001b[38;5;132;01m{\u001b[39;00mvalue\u001b[38;5;132;01m}\u001b[39;00m\u001b[38;5;124m\"\u001b[39m\u001b[38;5;124m]\u001b[39m\u001b[38;5;124m'\u001b[39m\n\u001b[1;32m--> 741\u001b[0m \u001b[38;5;28;01mreturn\u001b[39;00m \u001b[38;5;28;43mself\u001b[39;49m\u001b[38;5;241;43m.\u001b[39;49m\u001b[43mexecute\u001b[49m\u001b[43m(\u001b[49m\u001b[43mCommand\u001b[49m\u001b[38;5;241;43m.\u001b[39;49m\u001b[43mFIND_ELEMENT\u001b[49m\u001b[43m,\u001b[49m\u001b[43m \u001b[49m\u001b[43m{\u001b[49m\u001b[38;5;124;43m\"\u001b[39;49m\u001b[38;5;124;43musing\u001b[39;49m\u001b[38;5;124;43m\"\u001b[39;49m\u001b[43m:\u001b[49m\u001b[43m \u001b[49m\u001b[43mby\u001b[49m\u001b[43m,\u001b[49m\u001b[43m \u001b[49m\u001b[38;5;124;43m\"\u001b[39;49m\u001b[38;5;124;43mvalue\u001b[39;49m\u001b[38;5;124;43m\"\u001b[39;49m\u001b[43m:\u001b[49m\u001b[43m \u001b[49m\u001b[43mvalue\u001b[49m\u001b[43m}\u001b[49m\u001b[43m)\u001b[49m[\u001b[38;5;124m\"\u001b[39m\u001b[38;5;124mvalue\u001b[39m\u001b[38;5;124m\"\u001b[39m]\n",
      "File \u001b[1;32mc:\\Users\\PEDRO\\PycharmProjects\\projetoFinal\\.venv\\Lib\\site-packages\\selenium\\webdriver\\remote\\webdriver.py:347\u001b[0m, in \u001b[0;36mWebDriver.execute\u001b[1;34m(self, driver_command, params)\u001b[0m\n\u001b[0;32m    345\u001b[0m response \u001b[38;5;241m=\u001b[39m \u001b[38;5;28mself\u001b[39m\u001b[38;5;241m.\u001b[39mcommand_executor\u001b[38;5;241m.\u001b[39mexecute(driver_command, params)\n\u001b[0;32m    346\u001b[0m \u001b[38;5;28;01mif\u001b[39;00m response:\n\u001b[1;32m--> 347\u001b[0m     \u001b[38;5;28;43mself\u001b[39;49m\u001b[38;5;241;43m.\u001b[39;49m\u001b[43merror_handler\u001b[49m\u001b[38;5;241;43m.\u001b[39;49m\u001b[43mcheck_response\u001b[49m\u001b[43m(\u001b[49m\u001b[43mresponse\u001b[49m\u001b[43m)\u001b[49m\n\u001b[0;32m    348\u001b[0m     response[\u001b[38;5;124m\"\u001b[39m\u001b[38;5;124mvalue\u001b[39m\u001b[38;5;124m\"\u001b[39m] \u001b[38;5;241m=\u001b[39m \u001b[38;5;28mself\u001b[39m\u001b[38;5;241m.\u001b[39m_unwrap_value(response\u001b[38;5;241m.\u001b[39mget(\u001b[38;5;124m\"\u001b[39m\u001b[38;5;124mvalue\u001b[39m\u001b[38;5;124m\"\u001b[39m, \u001b[38;5;28;01mNone\u001b[39;00m))\n\u001b[0;32m    349\u001b[0m     \u001b[38;5;28;01mreturn\u001b[39;00m response\n",
      "File \u001b[1;32mc:\\Users\\PEDRO\\PycharmProjects\\projetoFinal\\.venv\\Lib\\site-packages\\selenium\\webdriver\\remote\\errorhandler.py:229\u001b[0m, in \u001b[0;36mErrorHandler.check_response\u001b[1;34m(self, response)\u001b[0m\n\u001b[0;32m    227\u001b[0m         alert_text \u001b[38;5;241m=\u001b[39m value[\u001b[38;5;124m\"\u001b[39m\u001b[38;5;124malert\u001b[39m\u001b[38;5;124m\"\u001b[39m]\u001b[38;5;241m.\u001b[39mget(\u001b[38;5;124m\"\u001b[39m\u001b[38;5;124mtext\u001b[39m\u001b[38;5;124m\"\u001b[39m)\n\u001b[0;32m    228\u001b[0m     \u001b[38;5;28;01mraise\u001b[39;00m exception_class(message, screen, stacktrace, alert_text)  \u001b[38;5;66;03m# type: ignore[call-arg]  # mypy is not smart enough here\u001b[39;00m\n\u001b[1;32m--> 229\u001b[0m \u001b[38;5;28;01mraise\u001b[39;00m exception_class(message, screen, stacktrace)\n",
      "\u001b[1;31mNoSuchWindowException\u001b[0m: Message: no such window: target window already closed\nfrom unknown error: web view not found\n  (Session info: chrome=125.0.6422.113)\nStacktrace:\n\tGetHandleVerifier [0x0098B8E3+45827]\n\t(No symbol) [0x0091DCC4]\n\t(No symbol) [0x0081150F]\n\t(No symbol) [0x007EE133]\n\t(No symbol) [0x0087949F]\n\t(No symbol) [0x0088B8E6]\n\t(No symbol) [0x00872B96]\n\t(No symbol) [0x00846998]\n\t(No symbol) [0x0084751D]\n\tGetHandleVerifier [0x00C44513+2899763]\n\tGetHandleVerifier [0x00C9793D+3240797]\n\tGetHandleVerifier [0x00A113B4+593364]\n\tGetHandleVerifier [0x00A182DC+621820]\n\t(No symbol) [0x009270A4]\n\t(No symbol) [0x009237A8]\n\t(No symbol) [0x00923947]\n\t(No symbol) [0x009159FE]\n\tBaseThreadInitThunk [0x7758FCC9+25]\n\tRtlGetAppContainerNamedObjectPath [0x777E7C6E+286]\n\tRtlGetAppContainerNamedObjectPath [0x777E7C3E+238]\n"
     ]
    }
   ],
   "source": [
    "#pega o campo email e digita\n",
    "navegador.find_element('xpath','//*[@data-testid=\"emailField\"]' ).send_keys(\"atendimentovidasaude01@gmail.com\")"
   ]
  },
  {
   "cell_type": "code",
   "execution_count": null,
   "id": "eb9f7838-e2b3-445f-a540-99d9556dc760",
   "metadata": {},
   "outputs": [],
   "source": [
    "navegador.implicitly_wait(10)"
   ]
  },
  {
   "cell_type": "code",
   "execution_count": null,
   "id": "068d2af1-8e8c-4f38-864e-4f109d7966c1",
   "metadata": {},
   "outputs": [],
   "source": [
    "#pega o campo senha e digita\n",
    "navegador.find_element('xpath','//*[@data-testid=\"passwordField\"]').send_keys(\"RMvs2024@\")"
   ]
  },
  {
   "cell_type": "code",
   "execution_count": null,
   "id": "e7f43174-89f0-4d76-901a-b4df9703de67",
   "metadata": {},
   "outputs": [],
   "source": [
    "navegador.implicitly_wait(10)"
   ]
  },
  {
   "cell_type": "code",
   "execution_count": null,
   "id": "c54c0b5c-55ce-476f-a245-19ba801443f7",
   "metadata": {},
   "outputs": [],
   "source": [
    "navegador.find_element('xpath','//*[@id=\"login_email_form\"]/button').click()"
   ]
  },
  {
   "cell_type": "code",
   "execution_count": null,
   "id": "5b96de1b-b92a-4bb0-ba03-4e5d6d3a29c3",
   "metadata": {},
   "outputs": [],
   "source": [
    "time.sleep(10)"
   ]
  },
  {
   "cell_type": "code",
   "execution_count": null,
   "id": "aad9b5ce-8ef6-4083-a30b-f00ce36f4c56",
   "metadata": {},
   "outputs": [],
   "source": [
    "#Pagina pra onde sera redirecionado\n",
    "navegador.get(\"https://app.clicksign.com/accounts/565988/dashboard\")"
   ]
  },
  {
   "cell_type": "code",
   "execution_count": null,
   "id": "56e6863c-dd01-4ec8-89fe-c84e67702f1d",
   "metadata": {},
   "outputs": [],
   "source": [
    "navegador.implicitly_wait(25)"
   ]
  },
  {
   "cell_type": "code",
   "execution_count": null,
   "id": "b58584f8-2e11-4639-995b-fbc16ecb746c",
   "metadata": {},
   "outputs": [],
   "source": [
    "navegador.find_element('xpath','//*[@class=\"_XButton_1p73z_1 _modelDefault_1p73z_153 _modelDefaultDesign_1p73z_161 _modelDefaultDesignDefault_1p73z_161 _radiusRounded_1p73z_78 _isFullWidth_1p73z_43\"]').click()"
   ]
  },
  {
   "cell_type": "code",
   "execution_count": null,
   "id": "db43adf3",
   "metadata": {},
   "outputs": [],
   "source": [
    "time.sleep(30)"
   ]
  },
  {
   "cell_type": "code",
   "execution_count": null,
   "id": "cf44e41d-cba4-4033-97dc-1a3adad9f70e",
   "metadata": {},
   "outputs": [],
   "source": [
    "#APOS USUARIO CARREGAR ARQUIVO\n",
    "navegador.find_element('xpath','//*[@data-testid=\"nextStepBtn\"]').click()"
   ]
  },
  {
   "cell_type": "code",
   "execution_count": null,
   "id": "fea38b3c-74c0-4fe2-b821-abfda1eebb0a",
   "metadata": {},
   "outputs": [],
   "source": [
    "#ADICIONAR SIGNATARIO\n",
    "navegador.find_element('xpath','//*[@data-testid=\"addSignerButton\"]').click()"
   ]
  },
  {
   "cell_type": "code",
   "execution_count": null,
   "id": "94405c60",
   "metadata": {},
   "outputs": [
    {
     "ename": "KeyboardInterrupt",
     "evalue": "",
     "output_type": "error",
     "traceback": [
      "\u001b[1;31m---------------------------------------------------------------------------\u001b[0m",
      "\u001b[1;31mKeyboardInterrupt\u001b[0m                         Traceback (most recent call last)",
      "Cell \u001b[1;32mIn[179], line 1\u001b[0m\n\u001b[1;32m----> 1\u001b[0m \u001b[43mtime\u001b[49m\u001b[38;5;241;43m.\u001b[39;49m\u001b[43msleep\u001b[49m\u001b[43m(\u001b[49m\u001b[38;5;241;43m70\u001b[39;49m\u001b[43m)\u001b[49m\n",
      "\u001b[1;31mKeyboardInterrupt\u001b[0m: "
     ]
    }
   ],
   "source": [
    "time.sleep(70)"
   ]
  },
  {
   "cell_type": "code",
   "execution_count": null,
   "id": "78192931",
   "metadata": {},
   "outputs": [
    {
     "data": {
      "text/plain": [
       "'from docx import Document\\nfrom datetime import datetime \\nimport pandas as pd\\n\\ntabela = pd.read_excel(\"Informações.xlsx\", sheet_name=\\'Planilha1\\')\\n\\nfor linha in tabela.index:\\n\\n    nomeCliente = tabela.loc[linha, \"Nome\"]\\n    dataNascimento = str(tabela.loc[linha, \"DataNascimento\"].strftime( \\'%d/%m/%Y\\' ))\\n    cpfCliente = str(tabela.loc[linha, \"CPF\"])\\n    emailCliente = str(tabela.loc[linha, \"Email\"])\\n'"
      ]
     },
     "execution_count": 148,
     "metadata": {},
     "output_type": "execute_result"
    }
   ],
   "source": [
    "#PEGA OS DADOS DA PLANILHA E ADICIONA NO PROGRAMA\n",
    "from docx import Document\n",
    "from datetime import datetime \n",
    "import pandas as pd\n",
    "\n",
    "tabela = pd.read_excel(\"Informações.xlsx\", sheet_name='Planilha1')\n",
    "\n",
    "for linha in tabela.index:\n",
    "\n",
    "    nomeCliente = tabela.loc[linha, \"Nome\"]\n",
    "    dataNascimento = str(tabela.loc[linha, \"DataNascimento\"].strftime( '%d/%m/%Y' ))\n",
    "    cpfCliente = str(tabela.loc[linha, \"CPF\"])\n",
    "    emailCliente = str(tabela.loc[linha, \"Email\"])\n"
   ]
  },
  {
   "cell_type": "code",
   "execution_count": null,
   "id": "11842c47",
   "metadata": {},
   "outputs": [],
   "source": [
    "#CLICA NO BOTÃO PROXIMO\n",
    "navegador.find_element('xpath','//*[@data-testid=\"nextStepAddSignerModalButton\"]').click()"
   ]
  },
  {
   "cell_type": "code",
   "execution_count": null,
   "id": "27c38758",
   "metadata": {},
   "outputs": [],
   "source": [
    "time.sleep(1)"
   ]
  },
  {
   "cell_type": "code",
   "execution_count": null,
   "id": "c27007e3",
   "metadata": {},
   "outputs": [],
   "source": [
    "#SIGNATARIO DEVE ASSINAR - SELEÇÃO\n",
    "navegador.find_element('xpath','//*[@data-testid=\"signerSignAsSelectPlaceholder\"]' ).click()\n"
   ]
  },
  {
   "cell_type": "code",
   "execution_count": null,
   "id": "abf91f6c",
   "metadata": {},
   "outputs": [],
   "source": [
    "time.sleep(1)"
   ]
  },
  {
   "cell_type": "code",
   "execution_count": null,
   "id": "a118101d",
   "metadata": {},
   "outputs": [],
   "source": [
    "#ASSINAR - CHECKBOX\n",
    "navegador.find_element('xpath','//*[@data-testid=\"selectFieldSignOptionCheckbox\"]/div' ).click()"
   ]
  },
  {
   "cell_type": "code",
   "execution_count": null,
   "id": "bc89428a",
   "metadata": {},
   "outputs": [],
   "source": [
    "time.sleep(1)"
   ]
  },
  {
   "cell_type": "code",
   "execution_count": null,
   "id": "dc42b6b0",
   "metadata": {},
   "outputs": [],
   "source": [
    "#BOTÃO AVANÇAR\n",
    "navegador.find_element('xpath','//*[@data-testid=\"nextStepAddSignerModalButton\"]' ).click()\n"
   ]
  },
  {
   "cell_type": "code",
   "execution_count": null,
   "id": "c05a3d8a",
   "metadata": {},
   "outputs": [],
   "source": [
    "time.sleep(6)"
   ]
  },
  {
   "cell_type": "code",
   "execution_count": null,
   "id": "11167e97",
   "metadata": {},
   "outputs": [],
   "source": [
    "#BOTÃO AVANÇAR\n",
    "navegador.find_element('xpath','//*[@data-testid=\"nextStepBtn\"]' ).click()"
   ]
  },
  {
   "cell_type": "code",
   "execution_count": null,
   "id": "56084d50",
   "metadata": {},
   "outputs": [],
   "source": [
    "time.sleep(2)"
   ]
  },
  {
   "cell_type": "code",
   "execution_count": null,
   "id": "e069c644",
   "metadata": {},
   "outputs": [],
   "source": [
    "#BOTÃO AVANÇAR\n",
    "navegador.find_element('xpath','//*[@data-testid=\"nextStepBtn\"]' ).click()"
   ]
  },
  {
   "cell_type": "code",
   "execution_count": null,
   "id": "90408656",
   "metadata": {},
   "outputs": [],
   "source": [
    "time.sleep(10)"
   ]
  },
  {
   "cell_type": "code",
   "execution_count": null,
   "id": "a2349fdf",
   "metadata": {},
   "outputs": [],
   "source": [
    "#pega o campo DATA DE NASCIMENTO e digita\n",
    "navegador.find_element('xpath','//*[@data-testid=\"documentMessageField\"]' ).send_keys(\"Olá \"+nomeCliente+\", tudo bem? Segue em anexo o Termo de Adesão referente ao Plano Aderido com a DG Vida Saúde. \")\n",
    "navegador.find_element('xpath','//*[@data-testid=\"documentMessageField\"]' ).send_keys(\"Preciso que assine o documento, clicando no botão abaixo. DG Vida Saúde agradece. Estamos a disposição para eventuais dúvidas que venha surgir!\")\n"
   ]
  },
  {
   "cell_type": "code",
   "execution_count": null,
   "id": "7ba1feda",
   "metadata": {},
   "outputs": [],
   "source": [
    "time.sleep(2)"
   ]
  },
  {
   "cell_type": "code",
   "execution_count": null,
   "id": "7f177e0b",
   "metadata": {},
   "outputs": [],
   "source": [
    "#BOTÃO ENVIAR DOCUMENTO\n",
    "navegador.find_element('xpath','//*[@id=\"sendMessage\"]' ).click()"
   ]
  },
  {
   "cell_type": "code",
   "execution_count": null,
   "id": "6f48b9e5",
   "metadata": {},
   "outputs": [],
   "source": [
    "time.sleep(10)"
   ]
  },
  {
   "cell_type": "code",
   "execution_count": null,
   "id": "2e6e2dd6",
   "metadata": {},
   "outputs": [],
   "source": [
    "navegador.close()"
   ]
  }
 ],
 "metadata": {
  "kernelspec": {
   "display_name": "Python 3 (ipykernel)",
   "language": "python",
   "name": "python3"
  },
  "language_info": {
   "codemirror_mode": {
    "name": "ipython",
    "version": 3
   },
   "file_extension": ".py",
   "mimetype": "text/x-python",
   "name": "python",
   "nbconvert_exporter": "python",
   "pygments_lexer": "ipython3",
   "version": "3.12.3"
  }
 },
 "nbformat": 4,
 "nbformat_minor": 5
}
