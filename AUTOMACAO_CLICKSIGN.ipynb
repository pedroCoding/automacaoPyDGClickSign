{
 "cells": [
  {
   "cell_type": "code",
   "execution_count": 98,
   "id": "2e3e537e-2ff5-436b-90a6-cea0525d933b",
   "metadata": {},
   "outputs": [],
   "source": [
    "from selenium import webdriver\n",
    "from webdriver_manager.chrome import ChromeDriverManager\n",
    "from selenium.webdriver.chrome.service import Service\n",
    "\n",
    "\n",
    "servico = Service(ChromeDriverManager().install())\n",
    "navegador = webdriver.Chrome(service=servico)\n",
    "\n",
    "\n",
    "#Pagina pra onde sera redirecionado\n",
    "navegador.get(\"https://app.clicksign.com\")\n",
    "\n"
   ]
  },
  {
   "cell_type": "code",
   "execution_count": 99,
   "id": "8134bf54-4706-4500-82e6-e1143e82fe11",
   "metadata": {},
   "outputs": [],
   "source": [
    "#pega o campo email e digita\n",
    "navegador.find_element('xpath','//*[@data-testid=\"emailField\"]' ).send_keys(\"atendimentovidasaude01@gmail.com\")"
   ]
  },
  {
   "cell_type": "code",
   "execution_count": 100,
   "id": "eb9f7838-e2b3-445f-a540-99d9556dc760",
   "metadata": {},
   "outputs": [],
   "source": [
    "navegador.implicitly_wait(5)"
   ]
  },
  {
   "cell_type": "code",
   "execution_count": 101,
   "id": "068d2af1-8e8c-4f38-864e-4f109d7966c1",
   "metadata": {},
   "outputs": [],
   "source": [
    "#pega o campo senha e digita\n",
    "navegador.find_element('xpath','//*[@data-testid=\"passwordField\"]').send_keys(\"RMvs2024@\")"
   ]
  },
  {
   "cell_type": "code",
   "execution_count": 102,
   "id": "e7f43174-89f0-4d76-901a-b4df9703de67",
   "metadata": {},
   "outputs": [],
   "source": [
    "navegador.implicitly_wait(5)"
   ]
  },
  {
   "cell_type": "code",
   "execution_count": 103,
   "id": "c54c0b5c-55ce-476f-a245-19ba801443f7",
   "metadata": {},
   "outputs": [],
   "source": [
    "#clica no botão LOGIN\n",
    "navegador.find_element('xpath','//*[@id=\"login_email_form\"]/button').click()"
   ]
  },
  {
   "cell_type": "code",
   "execution_count": 104,
   "id": "c75392ea-8126-4abb-bd23-555b05353a2b",
   "metadata": {},
   "outputs": [],
   "source": [
    "navegador.implicitly_wait(5)"
   ]
  },
  {
   "cell_type": "code",
   "execution_count": 105,
   "id": "4d251428-adc3-4231-9f6e-6357f21cb0e2",
   "metadata": {},
   "outputs": [],
   "source": [
    "#clica no botão AREA DA ASSINATURA\n",
    "navegador.find_element('xpath','//*[@data-testid=\"accessSignerAreabutton\"]').click()"
   ]
  },
  {
   "cell_type": "code",
   "execution_count": 106,
   "id": "5b96de1b-b92a-4bb0-ba03-4e5d6d3a29c3",
   "metadata": {},
   "outputs": [],
   "source": [
    "navegador.implicitly_wait(5)"
   ]
  },
  {
   "cell_type": "code",
   "execution_count": 107,
   "id": "aad9b5ce-8ef6-4083-a30b-f00ce36f4c56",
   "metadata": {},
   "outputs": [],
   "source": [
    "#Pagina pra onde sera redirecionado\n",
    "navegador.get(\"https://app.clicksign.com/accounts/565988/dashboard\")"
   ]
  },
  {
   "cell_type": "code",
   "execution_count": 108,
   "id": "56e6863c-dd01-4ec8-89fe-c84e67702f1d",
   "metadata": {},
   "outputs": [],
   "source": [
    "navegador.implicitly_wait(5)"
   ]
  },
  {
   "cell_type": "code",
   "execution_count": 109,
   "id": "b58584f8-2e11-4639-995b-fbc16ecb746c",
   "metadata": {},
   "outputs": [],
   "source": [
    "#clica no botão ADICIONAR DOCUMENTO\n",
    "navegador.find_element('xpath','//*[@data-testid=\"sendDocumentButton\"]').click()"
   ]
  },
  {
   "cell_type": "code",
   "execution_count": 110,
   "id": "fea38b3c-74c0-4fe2-b821-abfda1eebb0a",
   "metadata": {},
   "outputs": [],
   "source": [
    "navegador.implicitly_wait(160)"
   ]
  },
  {
   "cell_type": "code",
   "execution_count": 82,
   "id": "9796f65b-8e66-4419-960a-be579a2372be",
   "metadata": {},
   "outputs": [],
   "source": [
    "#SEGUNDA PARTE ( ---SCRIPT--- )"
   ]
  },
  {
   "cell_type": "code",
   "execution_count": 111,
   "id": "2107dfd4-89f3-47f0-b681-3ed3328df471",
   "metadata": {},
   "outputs": [],
   "source": [
    "navegador.find_element('xpath','/html/body/div[2]/main/div/div[2]/div/div[2]/div[2]/div[2]/div[2]/button').click()"
   ]
  },
  {
   "cell_type": "code",
   "execution_count": 112,
   "id": "9efe1512-9607-431f-89fc-c04ea6199d3b",
   "metadata": {},
   "outputs": [],
   "source": [
    "#adicionar signatario\n",
    "navegador.find_element('xpath','//*[@id=\"add_signer\"]').click()"
   ]
  },
  {
   "cell_type": "code",
   "execution_count": 117,
   "id": "d93d81f4-0f48-44f8-bf4c-7e315f897805",
   "metadata": {},
   "outputs": [],
   "source": [
    "navegador.implicitly_wait(10)"
   ]
  },
  {
   "cell_type": "code",
   "execution_count": 121,
   "id": "b1990c18-3ca6-439d-b983-de5f085ee607",
   "metadata": {},
   "outputs": [],
   "source": [
    "#ENVIO DOCUMENTO PRA ASSINATURA\n",
    "navegador.find_element('xpath','/html/body/div[2]/main/div/div[2]/div/section[2]/div/div/div/section/div/form/section[1]/section[1]/div/fieldset/div/div/div/div[2]').click()"
   ]
  },
  {
   "cell_type": "code",
   "execution_count": 122,
   "id": "7bd4e263-65ab-417a-b034-160c3ce44c20",
   "metadata": {},
   "outputs": [],
   "source": [
    "navegador.implicitly_wait(10)"
   ]
  },
  {
   "cell_type": "code",
   "execution_count": 124,
   "id": "8dc568a0-82d4-4010-b51a-bd8212eb180e",
   "metadata": {},
   "outputs": [
    {
     "ename": "NoSuchElementException",
     "evalue": "Message: no such element: Unable to locate element: {\"method\":\"xpath\",\"selector\":\"//*[@id=\"select-b24330db\"]/li[1]\"}\n  (Session info: chrome=125.0.6422.113); For documentation on this error, please visit: https://www.selenium.dev/documentation/webdriver/troubleshooting/errors#no-such-element-exception\nStacktrace:\n\tGetHandleVerifier [0x00E6B8E3+45827]\n\t(No symbol) [0x00DFDCC4]\n\t(No symbol) [0x00CF150F]\n\t(No symbol) [0x00D320BC]\n\t(No symbol) [0x00D3216B]\n\t(No symbol) [0x00D6E0F2]\n\t(No symbol) [0x00D52E44]\n\t(No symbol) [0x00D6C034]\n\t(No symbol) [0x00D52B96]\n\t(No symbol) [0x00D26998]\n\t(No symbol) [0x00D2751D]\n\tGetHandleVerifier [0x01124513+2899763]\n\tGetHandleVerifier [0x0117793D+3240797]\n\tGetHandleVerifier [0x00EF13B4+593364]\n\tGetHandleVerifier [0x00EF82DC+621820]\n\t(No symbol) [0x00E070A4]\n\t(No symbol) [0x00E037A8]\n\t(No symbol) [0x00E03947]\n\t(No symbol) [0x00DF59FE]\n\tBaseThreadInitThunk [0x7758FCC9+25]\n\tRtlGetAppContainerNamedObjectPath [0x777E7C6E+286]\n\tRtlGetAppContainerNamedObjectPath [0x777E7C3E+238]\n",
     "output_type": "error",
     "traceback": [
      "\u001b[1;31m---------------------------------------------------------------------------\u001b[0m",
      "\u001b[1;31mNoSuchElementException\u001b[0m                    Traceback (most recent call last)",
      "Cell \u001b[1;32mIn[124], line 2\u001b[0m\n\u001b[0;32m      1\u001b[0m \u001b[38;5;66;03m#clica no botão SELEÇÃO EMAIL\u001b[39;00m\n\u001b[1;32m----> 2\u001b[0m \u001b[43mnavegador\u001b[49m\u001b[38;5;241;43m.\u001b[39;49m\u001b[43mfind_element\u001b[49m\u001b[43m(\u001b[49m\u001b[38;5;124;43m'\u001b[39;49m\u001b[38;5;124;43mxpath\u001b[39;49m\u001b[38;5;124;43m'\u001b[39;49m\u001b[43m,\u001b[49m\u001b[38;5;124;43m'\u001b[39;49m\u001b[38;5;124;43m//*[@id=\u001b[39;49m\u001b[38;5;124;43m\"\u001b[39;49m\u001b[38;5;124;43mselect-b24330db\u001b[39;49m\u001b[38;5;124;43m\"\u001b[39;49m\u001b[38;5;124;43m]/li[1]\u001b[39;49m\u001b[38;5;124;43m'\u001b[39;49m\u001b[43m)\u001b[49m\u001b[38;5;241m.\u001b[39mclick()\n",
      "File \u001b[1;32m~\\PycharmProjects\\projetoFinal\\.venv\\Lib\\site-packages\\selenium\\webdriver\\remote\\webdriver.py:741\u001b[0m, in \u001b[0;36mWebDriver.find_element\u001b[1;34m(self, by, value)\u001b[0m\n\u001b[0;32m    738\u001b[0m     by \u001b[38;5;241m=\u001b[39m By\u001b[38;5;241m.\u001b[39mCSS_SELECTOR\n\u001b[0;32m    739\u001b[0m     value \u001b[38;5;241m=\u001b[39m \u001b[38;5;124mf\u001b[39m\u001b[38;5;124m'\u001b[39m\u001b[38;5;124m[name=\u001b[39m\u001b[38;5;124m\"\u001b[39m\u001b[38;5;132;01m{\u001b[39;00mvalue\u001b[38;5;132;01m}\u001b[39;00m\u001b[38;5;124m\"\u001b[39m\u001b[38;5;124m]\u001b[39m\u001b[38;5;124m'\u001b[39m\n\u001b[1;32m--> 741\u001b[0m \u001b[38;5;28;01mreturn\u001b[39;00m \u001b[38;5;28;43mself\u001b[39;49m\u001b[38;5;241;43m.\u001b[39;49m\u001b[43mexecute\u001b[49m\u001b[43m(\u001b[49m\u001b[43mCommand\u001b[49m\u001b[38;5;241;43m.\u001b[39;49m\u001b[43mFIND_ELEMENT\u001b[49m\u001b[43m,\u001b[49m\u001b[43m \u001b[49m\u001b[43m{\u001b[49m\u001b[38;5;124;43m\"\u001b[39;49m\u001b[38;5;124;43musing\u001b[39;49m\u001b[38;5;124;43m\"\u001b[39;49m\u001b[43m:\u001b[49m\u001b[43m \u001b[49m\u001b[43mby\u001b[49m\u001b[43m,\u001b[49m\u001b[43m \u001b[49m\u001b[38;5;124;43m\"\u001b[39;49m\u001b[38;5;124;43mvalue\u001b[39;49m\u001b[38;5;124;43m\"\u001b[39;49m\u001b[43m:\u001b[49m\u001b[43m \u001b[49m\u001b[43mvalue\u001b[49m\u001b[43m}\u001b[49m\u001b[43m)\u001b[49m[\u001b[38;5;124m\"\u001b[39m\u001b[38;5;124mvalue\u001b[39m\u001b[38;5;124m\"\u001b[39m]\n",
      "File \u001b[1;32m~\\PycharmProjects\\projetoFinal\\.venv\\Lib\\site-packages\\selenium\\webdriver\\remote\\webdriver.py:347\u001b[0m, in \u001b[0;36mWebDriver.execute\u001b[1;34m(self, driver_command, params)\u001b[0m\n\u001b[0;32m    345\u001b[0m response \u001b[38;5;241m=\u001b[39m \u001b[38;5;28mself\u001b[39m\u001b[38;5;241m.\u001b[39mcommand_executor\u001b[38;5;241m.\u001b[39mexecute(driver_command, params)\n\u001b[0;32m    346\u001b[0m \u001b[38;5;28;01mif\u001b[39;00m response:\n\u001b[1;32m--> 347\u001b[0m     \u001b[38;5;28;43mself\u001b[39;49m\u001b[38;5;241;43m.\u001b[39;49m\u001b[43merror_handler\u001b[49m\u001b[38;5;241;43m.\u001b[39;49m\u001b[43mcheck_response\u001b[49m\u001b[43m(\u001b[49m\u001b[43mresponse\u001b[49m\u001b[43m)\u001b[49m\n\u001b[0;32m    348\u001b[0m     response[\u001b[38;5;124m\"\u001b[39m\u001b[38;5;124mvalue\u001b[39m\u001b[38;5;124m\"\u001b[39m] \u001b[38;5;241m=\u001b[39m \u001b[38;5;28mself\u001b[39m\u001b[38;5;241m.\u001b[39m_unwrap_value(response\u001b[38;5;241m.\u001b[39mget(\u001b[38;5;124m\"\u001b[39m\u001b[38;5;124mvalue\u001b[39m\u001b[38;5;124m\"\u001b[39m, \u001b[38;5;28;01mNone\u001b[39;00m))\n\u001b[0;32m    349\u001b[0m     \u001b[38;5;28;01mreturn\u001b[39;00m response\n",
      "File \u001b[1;32m~\\PycharmProjects\\projetoFinal\\.venv\\Lib\\site-packages\\selenium\\webdriver\\remote\\errorhandler.py:229\u001b[0m, in \u001b[0;36mErrorHandler.check_response\u001b[1;34m(self, response)\u001b[0m\n\u001b[0;32m    227\u001b[0m         alert_text \u001b[38;5;241m=\u001b[39m value[\u001b[38;5;124m\"\u001b[39m\u001b[38;5;124malert\u001b[39m\u001b[38;5;124m\"\u001b[39m]\u001b[38;5;241m.\u001b[39mget(\u001b[38;5;124m\"\u001b[39m\u001b[38;5;124mtext\u001b[39m\u001b[38;5;124m\"\u001b[39m)\n\u001b[0;32m    228\u001b[0m     \u001b[38;5;28;01mraise\u001b[39;00m exception_class(message, screen, stacktrace, alert_text)  \u001b[38;5;66;03m# type: ignore[call-arg]  # mypy is not smart enough here\u001b[39;00m\n\u001b[1;32m--> 229\u001b[0m \u001b[38;5;28;01mraise\u001b[39;00m exception_class(message, screen, stacktrace)\n",
      "\u001b[1;31mNoSuchElementException\u001b[0m: Message: no such element: Unable to locate element: {\"method\":\"xpath\",\"selector\":\"//*[@id=\"select-b24330db\"]/li[1]\"}\n  (Session info: chrome=125.0.6422.113); For documentation on this error, please visit: https://www.selenium.dev/documentation/webdriver/troubleshooting/errors#no-such-element-exception\nStacktrace:\n\tGetHandleVerifier [0x00E6B8E3+45827]\n\t(No symbol) [0x00DFDCC4]\n\t(No symbol) [0x00CF150F]\n\t(No symbol) [0x00D320BC]\n\t(No symbol) [0x00D3216B]\n\t(No symbol) [0x00D6E0F2]\n\t(No symbol) [0x00D52E44]\n\t(No symbol) [0x00D6C034]\n\t(No symbol) [0x00D52B96]\n\t(No symbol) [0x00D26998]\n\t(No symbol) [0x00D2751D]\n\tGetHandleVerifier [0x01124513+2899763]\n\tGetHandleVerifier [0x0117793D+3240797]\n\tGetHandleVerifier [0x00EF13B4+593364]\n\tGetHandleVerifier [0x00EF82DC+621820]\n\t(No symbol) [0x00E070A4]\n\t(No symbol) [0x00E037A8]\n\t(No symbol) [0x00E03947]\n\t(No symbol) [0x00DF59FE]\n\tBaseThreadInitThunk [0x7758FCC9+25]\n\tRtlGetAppContainerNamedObjectPath [0x777E7C6E+286]\n\tRtlGetAppContainerNamedObjectPath [0x777E7C3E+238]\n"
     ]
    }
   ],
   "source": [
    "#clica no botão SELEÇÃO EMAIL\n",
    "navegador.find_element('xpath','//*[@id=\"select-b24330db\"]/li[1]').click()"
   ]
  },
  {
   "cell_type": "code",
   "execution_count": 126,
   "id": "b9bdbfe6-ae20-4b03-9da9-41b288432116",
   "metadata": {},
   "outputs": [],
   "source": [
    "navegador.find_element('xpath','/html/body/div[2]/main/div/div[2]/div/section[2]/div/div/div/section/div/form/section[1]/section[2]/div[1]/fieldset/div/div/div/div[2]').click()"
   ]
  },
  {
   "cell_type": "code",
   "execution_count": 127,
   "id": "94116e28-48b9-4484-84cb-c8d026a1a1ff",
   "metadata": {},
   "outputs": [],
   "source": [
    "navegador.implicitly_wait(10)"
   ]
  },
  {
   "cell_type": "code",
   "execution_count": 128,
   "id": "9ba58da8-757d-4af9-86a2-46dab45032c5",
   "metadata": {},
   "outputs": [
    {
     "ename": "NoSuchElementException",
     "evalue": "Message: no such element: Unable to locate element: {\"method\":\"xpath\",\"selector\":\"//*[@id=\"select-16c6fa34\"]/li[1]\"}\n  (Session info: chrome=125.0.6422.113); For documentation on this error, please visit: https://www.selenium.dev/documentation/webdriver/troubleshooting/errors#no-such-element-exception\nStacktrace:\n\tGetHandleVerifier [0x00E6B8E3+45827]\n\t(No symbol) [0x00DFDCC4]\n\t(No symbol) [0x00CF150F]\n\t(No symbol) [0x00D320BC]\n\t(No symbol) [0x00D3216B]\n\t(No symbol) [0x00D6E0F2]\n\t(No symbol) [0x00D52E44]\n\t(No symbol) [0x00D6C034]\n\t(No symbol) [0x00D52B96]\n\t(No symbol) [0x00D26998]\n\t(No symbol) [0x00D2751D]\n\tGetHandleVerifier [0x01124513+2899763]\n\tGetHandleVerifier [0x0117793D+3240797]\n\tGetHandleVerifier [0x00EF13B4+593364]\n\tGetHandleVerifier [0x00EF82DC+621820]\n\t(No symbol) [0x00E070A4]\n\t(No symbol) [0x00E037A8]\n\t(No symbol) [0x00E03947]\n\t(No symbol) [0x00DF59FE]\n\tBaseThreadInitThunk [0x7758FCC9+25]\n\tRtlGetAppContainerNamedObjectPath [0x777E7C6E+286]\n\tRtlGetAppContainerNamedObjectPath [0x777E7C3E+238]\n",
     "output_type": "error",
     "traceback": [
      "\u001b[1;31m---------------------------------------------------------------------------\u001b[0m",
      "\u001b[1;31mNoSuchElementException\u001b[0m                    Traceback (most recent call last)",
      "Cell \u001b[1;32mIn[128], line 1\u001b[0m\n\u001b[1;32m----> 1\u001b[0m \u001b[43mnavegador\u001b[49m\u001b[38;5;241;43m.\u001b[39;49m\u001b[43mfind_element\u001b[49m\u001b[43m(\u001b[49m\u001b[38;5;124;43m'\u001b[39;49m\u001b[38;5;124;43mxpath\u001b[39;49m\u001b[38;5;124;43m'\u001b[39;49m\u001b[43m,\u001b[49m\u001b[38;5;124;43m'\u001b[39;49m\u001b[38;5;124;43m//*[@id=\u001b[39;49m\u001b[38;5;124;43m\"\u001b[39;49m\u001b[38;5;124;43mselect-16c6fa34\u001b[39;49m\u001b[38;5;124;43m\"\u001b[39;49m\u001b[38;5;124;43m]/li[1]\u001b[39;49m\u001b[38;5;124;43m'\u001b[39;49m\u001b[43m)\u001b[49m\u001b[38;5;241m.\u001b[39mclick()\n",
      "File \u001b[1;32m~\\PycharmProjects\\projetoFinal\\.venv\\Lib\\site-packages\\selenium\\webdriver\\remote\\webdriver.py:741\u001b[0m, in \u001b[0;36mWebDriver.find_element\u001b[1;34m(self, by, value)\u001b[0m\n\u001b[0;32m    738\u001b[0m     by \u001b[38;5;241m=\u001b[39m By\u001b[38;5;241m.\u001b[39mCSS_SELECTOR\n\u001b[0;32m    739\u001b[0m     value \u001b[38;5;241m=\u001b[39m \u001b[38;5;124mf\u001b[39m\u001b[38;5;124m'\u001b[39m\u001b[38;5;124m[name=\u001b[39m\u001b[38;5;124m\"\u001b[39m\u001b[38;5;132;01m{\u001b[39;00mvalue\u001b[38;5;132;01m}\u001b[39;00m\u001b[38;5;124m\"\u001b[39m\u001b[38;5;124m]\u001b[39m\u001b[38;5;124m'\u001b[39m\n\u001b[1;32m--> 741\u001b[0m \u001b[38;5;28;01mreturn\u001b[39;00m \u001b[38;5;28;43mself\u001b[39;49m\u001b[38;5;241;43m.\u001b[39;49m\u001b[43mexecute\u001b[49m\u001b[43m(\u001b[49m\u001b[43mCommand\u001b[49m\u001b[38;5;241;43m.\u001b[39;49m\u001b[43mFIND_ELEMENT\u001b[49m\u001b[43m,\u001b[49m\u001b[43m \u001b[49m\u001b[43m{\u001b[49m\u001b[38;5;124;43m\"\u001b[39;49m\u001b[38;5;124;43musing\u001b[39;49m\u001b[38;5;124;43m\"\u001b[39;49m\u001b[43m:\u001b[49m\u001b[43m \u001b[49m\u001b[43mby\u001b[49m\u001b[43m,\u001b[49m\u001b[43m \u001b[49m\u001b[38;5;124;43m\"\u001b[39;49m\u001b[38;5;124;43mvalue\u001b[39;49m\u001b[38;5;124;43m\"\u001b[39;49m\u001b[43m:\u001b[49m\u001b[43m \u001b[49m\u001b[43mvalue\u001b[49m\u001b[43m}\u001b[49m\u001b[43m)\u001b[49m[\u001b[38;5;124m\"\u001b[39m\u001b[38;5;124mvalue\u001b[39m\u001b[38;5;124m\"\u001b[39m]\n",
      "File \u001b[1;32m~\\PycharmProjects\\projetoFinal\\.venv\\Lib\\site-packages\\selenium\\webdriver\\remote\\webdriver.py:347\u001b[0m, in \u001b[0;36mWebDriver.execute\u001b[1;34m(self, driver_command, params)\u001b[0m\n\u001b[0;32m    345\u001b[0m response \u001b[38;5;241m=\u001b[39m \u001b[38;5;28mself\u001b[39m\u001b[38;5;241m.\u001b[39mcommand_executor\u001b[38;5;241m.\u001b[39mexecute(driver_command, params)\n\u001b[0;32m    346\u001b[0m \u001b[38;5;28;01mif\u001b[39;00m response:\n\u001b[1;32m--> 347\u001b[0m     \u001b[38;5;28;43mself\u001b[39;49m\u001b[38;5;241;43m.\u001b[39;49m\u001b[43merror_handler\u001b[49m\u001b[38;5;241;43m.\u001b[39;49m\u001b[43mcheck_response\u001b[49m\u001b[43m(\u001b[49m\u001b[43mresponse\u001b[49m\u001b[43m)\u001b[49m\n\u001b[0;32m    348\u001b[0m     response[\u001b[38;5;124m\"\u001b[39m\u001b[38;5;124mvalue\u001b[39m\u001b[38;5;124m\"\u001b[39m] \u001b[38;5;241m=\u001b[39m \u001b[38;5;28mself\u001b[39m\u001b[38;5;241m.\u001b[39m_unwrap_value(response\u001b[38;5;241m.\u001b[39mget(\u001b[38;5;124m\"\u001b[39m\u001b[38;5;124mvalue\u001b[39m\u001b[38;5;124m\"\u001b[39m, \u001b[38;5;28;01mNone\u001b[39;00m))\n\u001b[0;32m    349\u001b[0m     \u001b[38;5;28;01mreturn\u001b[39;00m response\n",
      "File \u001b[1;32m~\\PycharmProjects\\projetoFinal\\.venv\\Lib\\site-packages\\selenium\\webdriver\\remote\\errorhandler.py:229\u001b[0m, in \u001b[0;36mErrorHandler.check_response\u001b[1;34m(self, response)\u001b[0m\n\u001b[0;32m    227\u001b[0m         alert_text \u001b[38;5;241m=\u001b[39m value[\u001b[38;5;124m\"\u001b[39m\u001b[38;5;124malert\u001b[39m\u001b[38;5;124m\"\u001b[39m]\u001b[38;5;241m.\u001b[39mget(\u001b[38;5;124m\"\u001b[39m\u001b[38;5;124mtext\u001b[39m\u001b[38;5;124m\"\u001b[39m)\n\u001b[0;32m    228\u001b[0m     \u001b[38;5;28;01mraise\u001b[39;00m exception_class(message, screen, stacktrace, alert_text)  \u001b[38;5;66;03m# type: ignore[call-arg]  # mypy is not smart enough here\u001b[39;00m\n\u001b[1;32m--> 229\u001b[0m \u001b[38;5;28;01mraise\u001b[39;00m exception_class(message, screen, stacktrace)\n",
      "\u001b[1;31mNoSuchElementException\u001b[0m: Message: no such element: Unable to locate element: {\"method\":\"xpath\",\"selector\":\"//*[@id=\"select-16c6fa34\"]/li[1]\"}\n  (Session info: chrome=125.0.6422.113); For documentation on this error, please visit: https://www.selenium.dev/documentation/webdriver/troubleshooting/errors#no-such-element-exception\nStacktrace:\n\tGetHandleVerifier [0x00E6B8E3+45827]\n\t(No symbol) [0x00DFDCC4]\n\t(No symbol) [0x00CF150F]\n\t(No symbol) [0x00D320BC]\n\t(No symbol) [0x00D3216B]\n\t(No symbol) [0x00D6E0F2]\n\t(No symbol) [0x00D52E44]\n\t(No symbol) [0x00D6C034]\n\t(No symbol) [0x00D52B96]\n\t(No symbol) [0x00D26998]\n\t(No symbol) [0x00D2751D]\n\tGetHandleVerifier [0x01124513+2899763]\n\tGetHandleVerifier [0x0117793D+3240797]\n\tGetHandleVerifier [0x00EF13B4+593364]\n\tGetHandleVerifier [0x00EF82DC+621820]\n\t(No symbol) [0x00E070A4]\n\t(No symbol) [0x00E037A8]\n\t(No symbol) [0x00E03947]\n\t(No symbol) [0x00DF59FE]\n\tBaseThreadInitThunk [0x7758FCC9+25]\n\tRtlGetAppContainerNamedObjectPath [0x777E7C6E+286]\n\tRtlGetAppContainerNamedObjectPath [0x777E7C3E+238]\n"
     ]
    }
   ],
   "source": [
    "navegador.find_element('xpath','//*[@id=\"select-16c6fa34\"]/li[1]').click()"
   ]
  },
  {
   "cell_type": "code",
   "execution_count": null,
   "id": "78be1f98-05bc-4917-98a4-a7a4e0814f61",
   "metadata": {},
   "outputs": [],
   "source": [
    "navegador.implicitly_wait(10)"
   ]
  },
  {
   "cell_type": "code",
   "execution_count": null,
   "id": "4c8a3864-673e-43f8-9adc-1adf8ecf171f",
   "metadata": {
    "scrolled": true
   },
   "outputs": [],
   "source": [
    "navegador.find_element('xpath','//*[@id=\"select-2d54c39d\"]/li[1]').click()"
   ]
  },
  {
   "cell_type": "code",
   "execution_count": null,
   "id": "574bb6d5-1d3e-4eb8-9876-716ebfde1fdd",
   "metadata": {},
   "outputs": [],
   "source": [
    "navegador.find_element('xpath','//*[@id=\"field-b69d3c32\"]').send_keys(\"falecompedrodev@gmail.com\")"
   ]
  },
  {
   "cell_type": "code",
   "execution_count": null,
   "id": "9975513c-8123-4ae1-b5c5-5348978c344a",
   "metadata": {},
   "outputs": [],
   "source": [
    "navegador.find_element('xpath','//*[@id=\"field-1f1d73d8\"]').send_keys(\"PEDRO LUCAS SILVA BARBOSA\")"
   ]
  },
  {
   "cell_type": "code",
   "execution_count": null,
   "id": "d36903c0-19db-47be-af12-30fc38604ba1",
   "metadata": {},
   "outputs": [],
   "source": [
    "navegador.find_element('xpath','//*[@id=\"field-6ce17594\"]').send_keys(\"082.900.443-21\")"
   ]
  },
  {
   "cell_type": "code",
   "execution_count": null,
   "id": "6e8db3d0-978f-4263-b34f-a50c52c2ff82",
   "metadata": {},
   "outputs": [],
   "source": [
    "navegador.find_element('xpath','//*[@id=\"field-003dcab2\"]').send_keys(\"08/02/2003\")"
   ]
  },
  {
   "cell_type": "code",
   "execution_count": 88,
   "id": "fcb71713-49e2-4c12-b4a0-4bc143929772",
   "metadata": {},
   "outputs": [],
   "source": [
    "navegador.find_element('xpath','/html/body/div[2]/main/div/div[2]/div/section[2]/div/div/div/footer/div[2]/button[2]').click()\n"
   ]
  },
  {
   "cell_type": "code",
   "execution_count": 89,
   "id": "ed219205-1674-496c-9758-d79b1e62aa7b",
   "metadata": {},
   "outputs": [],
   "source": [
    "navegador.find_element('xpath','//*[@id=\"93502924\"]/div/div[1]/fieldset/div/div/div/div[2]').click()"
   ]
  },
  {
   "cell_type": "code",
   "execution_count": 91,
   "id": "7d2b0416-3e41-4439-8989-134539fc5862",
   "metadata": {},
   "outputs": [],
   "source": [
    "navegador.find_element('xpath','//*[@id=\"labelf493dbbe\"]/div').click()"
   ]
  },
  {
   "cell_type": "code",
   "execution_count": 92,
   "id": "bb7d9565-478b-47c1-ac2b-326be1a51b16",
   "metadata": {},
   "outputs": [],
   "source": [
    "navegador.find_element('xpath','/html/body/div[2]/main/div/div[2]/div/section[2]/div/div/div/footer/div[2]/button[2]').click()"
   ]
  },
  {
   "cell_type": "code",
   "execution_count": 93,
   "id": "e0ea903c-b0b3-4ccd-8d78-a6487a0e612d",
   "metadata": {},
   "outputs": [],
   "source": [
    "navegador.find_element('xpath','/html/body/div[2]/main/div/div[2]/div/div[1]/div[2]/div[2]/button[2]').click()\n"
   ]
  },
  {
   "cell_type": "code",
   "execution_count": 94,
   "id": "afbaaf08-e739-49bd-9ff5-2b0dace906bd",
   "metadata": {},
   "outputs": [],
   "source": [
    "navegador.find_element('xpath','/html/body/div[2]/main/div/div[2]/div/div[1]/button[2]').click()"
   ]
  },
  {
   "cell_type": "code",
   "execution_count": 96,
   "id": "7af25360-0d15-4017-be26-98dda32bd026",
   "metadata": {},
   "outputs": [],
   "source": [
    "navegador.find_element('xpath','//*[@id=\"sendMessage\"]').click()\n"
   ]
  },
  {
   "cell_type": "code",
   "execution_count": 97,
   "id": "032feb33-df32-459f-81e4-f29238a9cc07",
   "metadata": {},
   "outputs": [],
   "source": [
    "navegador.close()"
   ]
  },
  {
   "cell_type": "code",
   "execution_count": null,
   "id": "ae580f79-bc3d-4e39-98d3-c4559f99334e",
   "metadata": {},
   "outputs": [],
   "source": []
  }
 ],
 "metadata": {
  "kernelspec": {
   "display_name": "Python 3 (ipykernel)",
   "language": "python",
   "name": "python3"
  },
  "language_info": {
   "codemirror_mode": {
    "name": "ipython",
    "version": 3
   },
   "file_extension": ".py",
   "mimetype": "text/x-python",
   "name": "python",
   "nbconvert_exporter": "python",
   "pygments_lexer": "ipython3",
   "version": "3.12.3"
  }
 },
 "nbformat": 4,
 "nbformat_minor": 5
}
